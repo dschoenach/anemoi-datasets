{
 "cells": [
  {
   "cell_type": "markdown",
   "id": "f6e86a64",
   "metadata": {},
   "source": [
    "Recommended way to use the training observations datasets :\n",
    " \n",
    "1) Install package pip install git+https://github.com/ecmwf/anemoi-datasets@observations\n",
    "\n",
    "2) Set up dataset path in your config file ~/.config/anemoi/settings.toml (https://anemoi.readthedocs.io/projects/datasets/en/latest/using/configuration.html)\n",
    "\n",
    "```\n",
    "    $ cat ~/.config/anemoi/settings.toml \n",
    "    [datasets] \n",
    "    path = [\"/path/to/datasests\"]\n",
    "```\n",
    " \n",
    "3) Check that the dataset exists: ls /path/to/datasets/observations-ea-ofb-0001-2007-2021-metop-a-iasi-radiances-v1.zarr\n",
    " "
   ]
  },
  {
   "cell_type": "code",
   "execution_count": 1,
   "id": "fe9dd231-d728-4cf7-bd57-f4ca88564fc9",
   "metadata": {},
   "outputs": [],
   "source": [
    "# (C) Copyright 2025 European Centre for Medium-Range Weather Forecasts.\n",
    "# This software is licensed under the terms of the Apache Licence Version 2.0\n",
    "# which can be obtained at http://www.apache.org/licenses/LICENSE-2.0.\n",
    "# In applying this licence, ECMWF does not waive the privileges and immunities\n",
    "# granted to it by virtue of its status as an intergovernmental organisation\n",
    "# nor does it submit to any jurisdiction.\n",
    "\n",
    "from anemoi.datasets import open_dataset\n",
    "\n",
    "import numpy as np"
   ]
  },
  {
   "cell_type": "code",
   "execution_count": 2,
   "id": "e6864b6a-5230-4788-955b-2832d3ea3347",
   "metadata": {},
   "outputs": [
    {
     "name": "stderr",
     "output_type": "stream",
     "text": [
      "Frequency not provided, using the one from the dataset: None\n",
      "Frequency not provided in the dataset, using the default : 6h\n"
     ]
    },
    {
     "name": "stdout",
     "output_type": "stream",
     "text": [
      "TRACE: ObservationsZarr(<zarr.hierarchy.Group '/' read-only>, None, None)\n",
      "TRACE: Using experimental dataset ObsDataset(['/home/mlx/ai-ml/datasets/observations-ea-ofb-0001-2007-2021-metop-a-iasi-radiances-v1.zarr', 20070227180000, 20210908060000], {'len_hrs': 6, 'step_hrs': 6})\n"
     ]
    }
   ],
   "source": [
    "ds = open_dataset(\"observations-ea-ofb-0001-2007-2021-metop-a-iasi-radiances-v1\")"
   ]
  },
  {
   "cell_type": "code",
   "execution_count": 3,
   "id": "0c8408ff-48e8-4668-9f02-fcd8b66af6aa",
   "metadata": {},
   "outputs": [
    {
     "name": "stdout",
     "output_type": "stream",
     "text": [
      "Observations Dataset with 21226 items\n"
     ]
    }
   ],
   "source": [
    "# Dataset contain n time windows    \n",
    "print(f\"Observations Dataset with {len(ds)} items\")"
   ]
  },
  {
   "cell_type": "code",
   "execution_count": 4,
   "id": "3f757dca-df9a-4add-952e-147c08ba1e7b",
   "metadata": {},
   "outputs": [
    {
     "name": "stdout",
     "output_type": "stream",
     "text": [
      "Dates: 2007-02-28T00:00:00, 2007-02-28T06:00:00, ..., 2021-09-08T00:00:00, 2021-09-08T06:00:00\n"
     ]
    },
    {
     "data": {
      "text/plain": [
       "21226 (21_226)"
      ]
     },
     "execution_count": 4,
     "metadata": {},
     "output_type": "execute_result"
    }
   ],
   "source": [
    "# Each window is associated with a given date\n",
    "print(f\"Dates: {ds.dates[0]}, {ds.dates[1]}, ..., {ds.dates[-2]}, {ds.dates[-1]}\")\n",
    "len(ds.dates)"
   ]
  },
  {
   "cell_type": "code",
   "execution_count": 5,
   "id": "4fa5fda0-9117-4562-8d85-36f4a9fbe51f",
   "metadata": {},
   "outputs": [
    {
     "name": "stdout",
     "output_type": "stream",
     "text": [
      "['healpix_idx_8', 'seqno', 'lat', 'lon', 'zenith', 'solar_zenith', 'avhrr_mean_vis_0', 'rawbt_16', 'rawbt_63', 'rawbt_138', 'rawbt_170', 'rawbt_185', 'rawbt_224', 'rawbt_249', 'rawbt_271', 'rawbt_445', 'rawbt_756', 'rawbt_867', 'rawbt_921', 'rawbt_2907', 'rawbt_2991', 'rawbt_3093', 'rawbt_3160', 'rawbt_5383', 'cos_julian_day', 'sin_julian_day', 'cos_local_time', 'sin_local_time', 'cos_sza', 'cos_latitude', 'sin_latitude', 'cos_longitude', 'sin_longitude', 'cos_vza']\n"
     ]
    }
   ],
   "source": [
    "# Variable names are available with ds.variables:\n",
    "print(ds.variables)"
   ]
  },
  {
   "cell_type": "code",
   "execution_count": 6,
   "id": "2aa25d3a-0ba7-4f6b-a6fe-b47a814d5fb3",
   "metadata": {},
   "outputs": [
    {
     "name": "stdout",
     "output_type": "stream",
     "text": [
      "{'healpix_idx_8': 0, 'seqno': 1, 'lat': 2, 'lon': 3, 'zenith': 4, 'solar_zenith': 5, 'avhrr_mean_vis_0': 6, 'rawbt_16': 7, 'rawbt_63': 8, 'rawbt_138': 9, 'rawbt_170': 10, 'rawbt_185': 11, 'rawbt_224': 12, 'rawbt_249': 13, 'rawbt_271': 14, 'rawbt_445': 15, 'rawbt_756': 16, 'rawbt_867': 17, 'rawbt_921': 18, 'rawbt_2907': 19, 'rawbt_2991': 20, 'rawbt_3093': 21, 'rawbt_3160': 22, 'rawbt_5383': 23, 'cos_julian_day': 24, 'sin_julian_day': 25, 'cos_local_time': 26, 'sin_local_time': 27, 'cos_sza': 28, 'cos_latitude': 29, 'sin_latitude': 30, 'cos_longitude': 31, 'sin_longitude': 32, 'cos_vza': 33}\n"
     ]
    },
    {
     "data": {
      "text/plain": [
       "34 (34)"
      ]
     },
     "execution_count": 6,
     "metadata": {},
     "output_type": "execute_result"
    }
   ],
   "source": [
    "# ds.name_to_index allow knowing which data is where\n",
    "print(ds.name_to_index)\n",
    "len(ds.name_to_index)"
   ]
  },
  {
   "cell_type": "markdown",
   "id": "9583007e-f971-4e4c-8243-d286d286d591",
   "metadata": {},
   "source": [
    "Datasets global statistics have been precomputed"
   ]
  },
  {
   "cell_type": "code",
   "execution_count": 7,
   "id": "3eb1290c-33bb-4780-832d-8fe7acc57339",
   "metadata": {},
   "outputs": [
    {
     "data": {
      "text/plain": [
       "array([3.8300708e+02, 5.4755575e+06, 0.0000000e+00, 0.0000000e+00,\n",
       "       0.0000000e+00, 0.0000000e+00, 3.3789816e+05, 2.3150133e+02,\n",
       "       2.1546123e+02, 2.2681549e+02, 2.2386728e+02, 2.1591220e+02,\n",
       "       2.2223653e+02, 2.2975639e+02, 2.4038684e+02, 2.5628555e+02,\n",
       "       2.6909610e+02, 2.6933527e+02, 2.6938358e+02, 2.5693881e+02,\n",
       "       2.5370573e+02, 2.4154004e+02, 2.4708250e+02, 2.6279996e+02,\n",
       "       0.0000000e+00, 0.0000000e+00, 0.0000000e+00, 0.0000000e+00,\n",
       "       0.0000000e+00, 0.0000000e+00, 0.0000000e+00, 0.0000000e+00,\n",
       "       0.0000000e+00, 0.0000000e+00], dtype=float32)"
      ]
     },
     "execution_count": 7,
     "metadata": {},
     "output_type": "execute_result"
    }
   ],
   "source": [
    "ds.statistics['mean']"
   ]
  },
  {
   "cell_type": "code",
   "execution_count": 8,
   "id": "f9a1680a-d0ae-4bc0-8305-c18dcfc7feba",
   "metadata": {},
   "outputs": [
    {
     "data": {
      "text/plain": [
       "array([2.3034642e+02, 3.8735608e+06, 9.0000000e+01, 1.8000000e+02,\n",
       "       9.0000000e+01, 1.8000000e+02, 5.1043806e+05, 9.6277647e+00,\n",
       "       8.9814367e+00, 9.7006111e+00, 9.1120253e+00, 8.0488205e+00,\n",
       "       5.7508364e+00, 6.5173740e+00, 9.6341305e+00, 1.4390362e+01,\n",
       "       2.1499352e+01, 2.1563625e+01, 2.1560154e+01, 1.3033051e+01,\n",
       "       1.1873526e+01, 8.5672741e+00, 1.0070569e+01, 1.4734804e+01,\n",
       "       1.0000000e+00, 1.0000000e+00, 1.0000000e+00, 1.0000000e+00,\n",
       "       1.0000000e+00, 1.0000000e+00, 1.0000000e+00, 1.0000000e+00,\n",
       "       1.0000000e+00, 1.0000000e+00], dtype=float32)"
      ]
     },
     "execution_count": 8,
     "metadata": {},
     "output_type": "execute_result"
    }
   ],
   "source": [
    "ds.statistics['stdev']"
   ]
  },
  {
   "cell_type": "code",
   "execution_count": 9,
   "id": "b5793431-b19f-4549-a53d-9b31a6f24362",
   "metadata": {},
   "outputs": [
    {
     "data": {
      "text/plain": [
       "array([ 0.0000000e+00,  2.4200000e+03, -8.9995308e+01, -1.8000000e+02,\n",
       "        0.0000000e+00,  0.0000000e+00,  0.0000000e+00,  1.9445790e+02,\n",
       "        1.8093401e+02,  1.9000102e+02,  1.8855136e+02,  1.8340872e+02,\n",
       "        1.8487903e+02,  1.8518295e+02,  1.8492542e+02,  1.8350490e+02,\n",
       "        1.8160480e+02,  1.8158250e+02,  1.8249533e+02,  1.8580470e+02,\n",
       "        1.8482233e+02,  1.8496103e+02,  1.8495709e+02,  1.6212875e+02,\n",
       "       -1.0000000e+00, -1.0000000e+00, -1.0000000e+00, -1.0000000e+00,\n",
       "        0.0000000e+00,  8.1853068e-05, -1.0000000e+00, -1.0000000e+00,\n",
       "       -1.0000000e+00,  5.0934184e-01], dtype=float32)"
      ]
     },
     "execution_count": 9,
     "metadata": {},
     "output_type": "execute_result"
    }
   ],
   "source": [
    "ds.statistics['minimum']"
   ]
  },
  {
   "cell_type": "code",
   "execution_count": 10,
   "id": "a2c3b9cd-c973-41d9-836c-e4456c746705",
   "metadata": {},
   "outputs": [
    {
     "data": {
      "text/plain": [
       "array([7.6700000e+02, 2.1695148e+07, 8.9834442e+01, 1.8000000e+02,\n",
       "       5.9380001e+01, 1.6022000e+02, 5.1310000e+06, 2.9388623e+02,\n",
       "       2.9386945e+02, 2.9347015e+02, 2.9338644e+02, 2.9335785e+02,\n",
       "       2.9340256e+02, 2.9337936e+02, 2.9336716e+02, 2.9418332e+02,\n",
       "       3.3613821e+02, 3.3544128e+02, 3.3491034e+02, 3.0393958e+02,\n",
       "       2.9816287e+02, 2.9311325e+02, 2.9315689e+02, 3.1640573e+02,\n",
       "       1.0000000e+00, 1.0000000e+00, 1.0000000e+00, 1.0000000e+00,\n",
       "       9.9860054e-01, 1.0000000e+00, 9.9999583e-01, 1.0000000e+00,\n",
       "       1.0000000e+00, 1.0000000e+00], dtype=float32)"
      ]
     },
     "execution_count": 10,
     "metadata": {},
     "output_type": "execute_result"
    }
   ],
   "source": [
    "ds.statistics['maximum']"
   ]
  },
  {
   "cell_type": "code",
   "execution_count": 11,
   "id": "f1fdd81a-1b65-4db0-8cc9-fb4562c4256f",
   "metadata": {},
   "outputs": [
    {
     "name": "stdout",
     "output_type": "stream",
     "text": [
      "✅ Got item 0 : <class 'numpy.ndarray'> (34, 25075)\n",
      "     associated with the 'validity datetime' 2007-02-28T00:00:00\n",
      "     contains the data for the time window [2007-02-27T18:00:00.000000  -  2007-02-28T00:00:00]\n",
      "\n",
      "✅ Got item 1 : <class 'numpy.ndarray'> (34, 24842)\n",
      "     associated with the 'validity datetime' 2007-02-28T06:00:00\n",
      "     contains the data for the time window [2007-02-28T00:00:00.000000  -  2007-02-28T06:00:00]\n",
      "\n",
      "✅ Got item 2 : <class 'numpy.ndarray'> (34, 24908)\n",
      "     associated with the 'validity datetime' 2007-02-28T12:00:00\n",
      "     contains the data for the time window [2007-02-28T06:00:00.000000  -  2007-02-28T12:00:00]\n",
      "\n",
      "✅ Got item 3 : <class 'numpy.ndarray'> (34, 24925)\n",
      "     associated with the 'validity datetime' 2007-02-28T18:00:00\n",
      "     contains the data for the time window [2007-02-28T12:00:00.000000  -  2007-02-28T18:00:00]\n",
      "\n",
      "✅ Got item 4 : <class 'numpy.ndarray'> (34, 23175)\n",
      "     associated with the 'validity datetime' 2007-03-01T00:00:00\n",
      "     contains the data for the time window [2007-02-28T18:00:00.000000  -  2007-03-01T00:00:00]\n",
      "\n"
     ]
    }
   ],
   "source": [
    "# The actual data is available with [i]\n",
    "for i in range(len(ds))[:5]:\n",
    "    data = ds[i]\n",
    "    print(f\"✅ Got item {i} : {type(data)} {data.shape}\")\n",
    "    print(f\"     associated with the 'validity datetime' {ds.dates[i]}\")\n",
    "    print(f\"     contains the data for the time window [{ds.dates[i] - np.timedelta64(ds.frequency)}  -  {ds.dates[i]}]\")\n",
    "    print()"
   ]
  },
  {
   "cell_type": "code",
   "execution_count": 12,
   "id": "0bb3aeda-ca27-421b-839f-74c4af77bfd0",
   "metadata": {},
   "outputs": [
    {
     "name": "stdout",
     "output_type": "stream",
     "text": [
      "For variable rawbt_249, the mean is 229.7563934326172 \n"
     ]
    }
   ],
   "source": [
    "variable = 'rawbt_249'\n",
    "i = 100\n",
    "print(f\"For variable {variable}, the mean is {ds.statistics['mean'][ds.name_to_index[variable]]} \")"
   ]
  },
  {
   "cell_type": "code",
   "execution_count": 13,
   "id": "ec717c20-701e-4a61-8e47-a12e342c1120",
   "metadata": {},
   "outputs": [
    {
     "name": "stdout",
     "output_type": "stream",
     "text": [
      "For time window #100, ending at 2007-03-25T00:00:00 (and variable rawbt_249), the observations data is [218.99956 218.93092 219.31906 ... 228.26152 227.31386 225.95712]\n"
     ]
    }
   ],
   "source": [
    "print(f\"For time window #{i}, ending at {ds.dates[i]} (and variable {variable}), the observations data is {ds[i][ds.name_to_index[variable]]}\")"
   ]
  },
  {
   "cell_type": "markdown",
   "id": "629ab9d2-e90a-46ff-a511-837f4d7d3202",
   "metadata": {},
   "source": [
    "# More datasets"
   ]
  },
  {
   "cell_type": "code",
   "execution_count": 14,
   "id": "7c8964c8-a1e9-474f-ad8d-850b4c3aa3d7",
   "metadata": {},
   "outputs": [],
   "source": [
    "def str_(t):\n",
    "    \"\"\"Not needed, but useful for debugging\"\"\"\n",
    "    import numpy as np\n",
    "    if isinstance(t, np.ndarray):\n",
    "        return t.shape\n",
    "    if isinstance(t, (list, tuple)):\n",
    "        return \"[\" + \" , \".join(str_(e) for e in t) + \"]\"\n",
    "    if isinstance(t, dict):\n",
    "        return \"{\" + \" , \".join(f\"{k}: {str_(v)}\" for k, v in t.items()) + \"}\"\n",
    "    return str(t)\n",
    "\n",
    "def show(ds, filter=None):\n",
    "    print(ds)\n",
    "    print(ds.tree())\n",
    "    print(f\"✅ Initialized Observations Dataset with {len(ds)} items\")\n",
    "    print(f\"Dates: {ds.dates[0]}, {ds.dates[1]}, ..., {ds.dates[-2]}, {ds.dates[-1]}\")\n",
    "    print(f\"Frequency: {ds.frequency}\")\n",
    "    print(f\"Variables: {ds.variables}\")\n",
    "    print(f\"Name to index: {ds.name_to_index}\")\n",
    "    print(\"Statistics:\")\n",
    "    for k, v in ds.statistics.items():\n",
    "        print(f\"  {k}: {','.join([str(_) for _ in v])}\")\n",
    "\n",
    "    count = 10\n",
    "    for i in range(len(ds)):\n",
    "        date = ds.dates[i]\n",
    "        if filter and not str(date).startswith(filter):\n",
    "            continue\n",
    "\n",
    "        data = ds[i]\n",
    "\n",
    "        count -= 1\n",
    "        print(f\"✅ Got item {i}, associated with the 'validity datetime' {date} : {str_(data)}\")\n",
    "        print(f\"✅     item {i} contains the data for the time window [{date - np.timedelta64(ds.frequency)}  -  {date}]\")\n",
    "        \n",
    "        if count == 0:\n",
    "            break"
   ]
  },
  {
   "cell_type": "code",
   "execution_count": 55,
   "id": "5d826aff-b593-44ff-982a-90068fe1802b",
   "metadata": {},
   "outputs": [],
   "source": [
    "DATASETS = [\n",
    "    \"observations-od-ai-0001-2013-2023-amsr2-h180-v2\",\n",
    "    \"observations-ea-ofb-0001-1998-2023-noaa-15-amsua-radiances-v1\",\n",
    "    \"observations-ea-ofb-0001-2005-2023-noaa-18-amsua-radiances-v1\",\n",
    "    \"observations-ea-ofb-0001-2006-2021-metop-a-amsua-radiances-v1\",\n",
    "    \"observations-ea-ofb-0001-2012-2023-metop-b-amsua-radiances-v1\",\n",
    "    \"observations-ea-ofb-0001-2007-2021-metop-a-iasi-radiances-v1\",\n",
    "    \"observations-ea-ofb-0001-2013-2023-metop-b-iasi-radiances-v1\",\n",
    "    \"observations-ea-ofb-0001-2019-2023-metop-c-iasi-radiances-v1\",\n",
    "    \"observations-ea-ofb-0001-2002-2023-aqua-airs-radiances-v1\",\n",
    "    \"observations-ea-ofb-0001-2009-2023-dmsp-17-ssmis-radiances-all-sky-v1\",\n",
    "    \"observations-ea-ofb-0001-2012-2023-npp-atms-radiances-v2\",\n",
    "    \"observations-ea-ofb-0001-2018-2023-noaa-20-atms-radiances-v1\",\n",
    "    \"observations-ea-ofb-0001-2012-2023-npp-cris-radiances-v1\",\n",
    "    \"observations-ea-ofb-0001-2014-2023-saral-ralt-wave-v1\",\n",
    "    \"observations-od-ec-0001-2007-2012-meteosat-9-seviri-v3\",\n",
    "    \"observations-od-ai-0001-2012-2018-meteosat-10-seviri-v3\",\n",
    "    \"observations-od-ai-0001-2017-2022-meteosat-8-iodc-seviri-v3\",\n",
    "    \"observations-od-ec-0001-2004-2007-meteosat-8-seviri-v3\",\n",
    "    \"observations-od-ai-0001-2018-2023-meteosat-11-seviri-v1\",\n",
    "    \"observations-ea-ofb-0001-2008-2021-metop-a-gpsro-v2-sort\",\n",
    "    \"observations-ea-ofb-0001-2012-2023-metop-b-gpsro-v2-sort\",\n",
    "    \"observations-ea-ofb-0001-2018-2023-metop-c-gpsro-v2-sort\",\n",
    "    \"observations-ea-ofb-0001-2007-2021-metop-a-ascat-v1\",\n",
    "    \"observations-ea-ofb-0001-2013-2023-metop-b-ascat-v1\",\n",
    "    \"observations-ea-ofb-0001-2020-2023-metop-c-ascat-v1\",\n",
    "    \"observations-ea-ofb-0001-1979-2023-combined-surface-v2\",\n",
    "    \"observations-od-ofb-0001-2014-2023-combined-snow-depth-v1\",\n",
    "    \"observations-ea-ofb-0001-1979-2023-combined-upper-air-v1\",\n",
    "    \"observations-od-ai-0001-2013-2024-nexrad-h220-v1\",\n",
    "]\n",
    "\n",
    "DATASETS=[]\n",
    "for name in DATASETS:\n",
    "    print('------------------------------------')\n",
    "    ds = open_dataset(name)\n",
    "    show(ds)"
   ]
  }
 ],
 "metadata": {
  "kernelspec": {
   "display_name": "observations",
   "language": "python",
   "name": "observations"
  },
  "language_info": {
   "codemirror_mode": {
    "name": "ipython",
    "version": 3
   },
   "file_extension": ".py",
   "mimetype": "text/x-python",
   "name": "python",
   "nbconvert_exporter": "python",
   "pygments_lexer": "ipython3",
   "version": "3.11.0"
  }
 },
 "nbformat": 4,
 "nbformat_minor": 5
}
